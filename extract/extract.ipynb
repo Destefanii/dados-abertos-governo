{
 "cells": [
  {
   "cell_type": "code",
   "execution_count": 1,
   "metadata": {},
   "outputs": [],
   "source": [
    "import sys\n",
    "# sys.path is a list of absolute path strings\n",
    "sys.path.append('/projetos/Estudos/Governo/util/azure')"
   ]
  },
  {
   "cell_type": "code",
   "execution_count": 2,
   "metadata": {},
   "outputs": [
    {
     "name": "stdout",
     "output_type": "stream",
     "text": [
      "2022-09-13 15:48:24 Library imports with success.\n"
     ]
    }
   ],
   "source": [
    "# Library imports\n",
    "try:\n",
    "  import requests \n",
    "  import json\n",
    "  import pandas as pd\n",
    "  import datetime\n",
    "  \n",
    "  from DynamicDatalake import datalake\n",
    "  from pandas import json_normalize\n",
    "  from datetime import datetime as d\n",
    "  from log import log\n",
    "  from os import environ\n",
    "\n",
    "  # Set datetime now\n",
    "  date = d.now()\n",
    "\n",
    "  dt = datetime.datetime.today()\n",
    "  \n",
    "  year = dt.year\n",
    "  month = dt.month\n",
    "  day = dt.day-1\n",
    "  \n",
    "  print(date.strftime(\"%Y-%m-%d %H:%M:%S\"), 'Library imports with success.')\n",
    "  \n",
    "except Exception as e:\n",
    "  print(date.strftime(\"%Y-%m-%d %H:%M:%S\") + \" ERROR: \" + 'Library imports with error: ', str(e))"
   ]
  },
  {
   "cell_type": "code",
   "execution_count": 3,
   "metadata": {},
   "outputs": [
    {
     "name": "stdout",
     "output_type": "stream",
     "text": [
      "2022-09-13 15:48:24.448085-03:00 - 2 - Classes instanciadas com sucesso\n"
     ]
    }
   ],
   "source": [
    "# Simula as variaveis de ambiente do Datalake\n",
    "os.environ['AZURE_TENANT_ID'] = \"\"\n",
    "os.environ['AZURE_CLIENT_ID'] = \"\"\n",
    "os.environ['AZURE_CLIENT_SECRET'] = \"\"\n",
    "\n",
    "# Inicio do instanciamento da classe do datalake\n",
    "try:\n",
    "    filesystem = 'datalake'\n",
    "    dl = datalake(filesystem)\n",
    "    print(log.log_data() + 'Classes instanciadas com sucesso')\n",
    "    \n",
    "except Exception as e:\n",
    "     \n",
    "    print(' ' + log.log_data() + 'Erro ao instanciar datalake')\n",
    "    raise ValueError(e)"
   ]
  },
  {
   "cell_type": "code",
   "execution_count": 4,
   "metadata": {},
   "outputs": [
    {
     "name": "stdout",
     "output_type": "stream",
     "text": [
      "2022-09-13 15:48:24 Define category with success.\n"
     ]
    }
   ],
   "source": [
    "# List with category or roles\n",
    "try:\n",
    "  category = ['deputados','eventos','frentes', \n",
    "              'legislaturas','partidos','proposicoes',\n",
    "              'votacoes','orgaos']\n",
    "\n",
    "  date = d.now()\n",
    "  print(date.strftime(\"%Y-%m-%d %H:%M:%S\"), 'Define category with success.')\n",
    "   \n",
    "except Exception as e:\n",
    "  print(date.strftime(\"%Y-%m-%d %H:%M:%S\") + \" ERROR: \" + 'Define category with error: ', str(e))"
   ]
  },
  {
   "cell_type": "code",
   "execution_count": 5,
   "metadata": {},
   "outputs": [
    {
     "name": "stdout",
     "output_type": "stream",
     "text": [
      "2022-09-13 15:48:24 CATEGORIA: deputados, Status OK.\n",
      "2022-09-13 15:48:24 CATEGORIA: eventos, Status OK.\n",
      "2022-09-13 15:48:24 CATEGORIA: frentes, Status OK.\n",
      "2022-09-13 15:48:24 CATEGORIA: legislaturas, Status OK.\n",
      "2022-09-13 15:48:24 CATEGORIA: partidos, Status OK.\n",
      "2022-09-13 15:48:24 CATEGORIA: proposicoes, Status OK.\n",
      "2022-09-13 15:48:24 CATEGORIA: votacoes, Status OK.\n",
      "2022-09-13 15:48:24 CATEGORIA: orgaos, Status OK.\n"
     ]
    }
   ],
   "source": [
    "# Connection test in all categories\n",
    "try:\n",
    "    for i in category:\n",
    "        # URL To connect on dadosabertos API\n",
    "        url = f'https://dadosabertos.camara.leg.br/api/v2/{i}'\n",
    "        resposta = requests.request(\"GET\", url) \n",
    "        resposta = str(resposta)\n",
    "\n",
    "        if resposta == '<Response [200]>': \n",
    "            print(date.strftime(\"%Y-%m-%d %H:%M:%S\"), f'CATEGORIA: {i}, Status OK.')\n",
    "        else:\n",
    "            print(date.strftime(\"%Y-%m-%d %H:%M:%S\") + \" ERROR: \" + 'Status with error or status code is not expected: ', str(e))\n",
    "\n",
    "except Exception as e:\n",
    "  print(date.strftime(\"%Y-%m-%d %H:%M:%S\") + \" ERROR: \" + 'Failed on connection test in all categories: ', str(e)) "
   ]
  },
  {
   "cell_type": "code",
   "execution_count": 6,
   "metadata": {},
   "outputs": [
    {
     "name": "stdout",
     "output_type": "stream",
     "text": [
      "2022-09-13 15:48:24 Success: File: deputados inserted on raw_zone/Governo/2022/9/12 \n",
      "2022-09-13 15:48:24 Success: File: eventos inserted on raw_zone/Governo/2022/9/12 \n",
      "2022-09-13 15:48:24 Success: File: frentes inserted on raw_zone/Governo/2022/9/12 \n",
      "2022-09-13 15:48:24 Success: File: legislaturas inserted on raw_zone/Governo/2022/9/12 \n",
      "2022-09-13 15:48:24 Success: File: partidos inserted on raw_zone/Governo/2022/9/12 \n",
      "2022-09-13 15:48:24 Success: File: proposicoes inserted on raw_zone/Governo/2022/9/12 \n",
      "2022-09-13 15:48:24 Success: File: votacoes inserted on raw_zone/Governo/2022/9/12 \n",
      "2022-09-13 15:48:24 Success: File: orgaos inserted on raw_zone/Governo/2022/9/12 \n"
     ]
    }
   ],
   "source": [
    "try:\n",
    "    for i in category:\n",
    "        # URL To connect on dadosabertos API\n",
    "        url = f'https://dadosabertos.camara.leg.br/api/v2/{i}'\n",
    "        parametros = {}\n",
    "        resposta = requests.request(\"GET\", url, params=parametros) \n",
    "        objetos = json.loads(resposta.text)\n",
    "        dados = objetos['dados']\n",
    "        df = pd.DataFrame(dados)\n",
    "\n",
    "        # Directory inserction\n",
    "        Directory = f\"raw_zone/Governo/{year}/{month}/{day}\"\n",
    "\n",
    "        # Upload file to datalake\n",
    "        dl.upload_dataframe_to_parquet(directory=Directory, namefile=f\"{i}.parquet\", df=df)\n",
    "\n",
    "        print(date.strftime(\"%Y-%m-%d %H:%M:%S\") + \" Success: \" + f'File: {i} inserted on {Directory} ')       \n",
    "except Exception as e:\n",
    "  print(date.strftime(\"%Y-%m-%d %H:%M:%S\") + \" ERROR: \" + 'Failed on connection test in all categories: ', str(e)) "
   ]
  }
 ],
 "metadata": {
  "kernelspec": {
   "display_name": "Python 3.9.7 64-bit (windows store)",
   "language": "python",
   "name": "python3"
  },
  "language_info": {
   "codemirror_mode": {
    "name": "ipython",
    "version": 3
   },
   "file_extension": ".py",
   "mimetype": "text/x-python",
   "name": "python",
   "nbconvert_exporter": "python",
   "pygments_lexer": "ipython3",
   "version": "3.9.13"
  },
  "orig_nbformat": 4,
  "vscode": {
   "interpreter": {
    "hash": "9b6c89e48e3327fa6dfffb74f5b61287345820ae8a240bf9d4f2eae336161bb5"
   }
  }
 },
 "nbformat": 4,
 "nbformat_minor": 2
}
