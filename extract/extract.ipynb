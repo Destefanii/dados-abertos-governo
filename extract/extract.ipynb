{
 "cells": [
  {
   "cell_type": "code",
   "execution_count": 24,
   "metadata": {},
   "outputs": [
    {
     "name": "stdout",
     "output_type": "stream",
     "text": [
      "2022-08-08 15:59:12 Library imports with success\n"
     ]
    }
   ],
   "source": [
    "# Library imports\n",
    "try:\n",
    "  import requests \n",
    "  import json\n",
    "  import pandas as pd\n",
    "  from datetime import datetime as d\n",
    "  \n",
    "  date = d.now()\n",
    "  print(date.strftime(\"%Y-%m-%d %H:%M:%S\"), 'Library imports with success.')\n",
    "  \n",
    "except Exception as e:\n",
    "  print(date.strftime(\"%Y-%m-%d %H:%M:%S\") + \" ERROR :\" + 'Library imports with error: ', str(e))"
   ]
  },
  {
   "cell_type": "code",
   "execution_count": 28,
   "metadata": {},
   "outputs": [
    {
     "name": "stdout",
     "output_type": "stream",
     "text": [
      "2022-08-08 16:08:37 Define category with success\n"
     ]
    }
   ],
   "source": [
    "# List with category or roles\n",
    "try:\n",
    "  category = ['deputados','eventos','frentes',\n",
    "              'legislaturas','partidos','proposicoes',\n",
    "              'referencias/deputados','votacoes','orgaos']\n",
    "\n",
    "  date = d.now()\n",
    "  print(date.strftime(\"%Y-%m-%d %H:%M:%S\"), 'Define category with success.')\n",
    "  \n",
    "except Exception as e:\n",
    "  print(date.strftime(\"%Y-%m-%d %H:%M:%S\") + \" ERROR :\" + 'Define category with error: ', str(e))"
   ]
  },
  {
   "cell_type": "code",
   "execution_count": 50,
   "metadata": {},
   "outputs": [
    {
     "name": "stdout",
     "output_type": "stream",
     "text": [
      "2022-08-08 16:08:37 CATEGORIA deputados, Status OK\n",
      "2022-08-08 16:08:37 CATEGORIA eventos, Status OK\n",
      "2022-08-08 16:08:37 CATEGORIA frentes, Status OK\n",
      "2022-08-08 16:08:37 CATEGORIA legislaturas, Status OK\n",
      "2022-08-08 16:08:37 CATEGORIA partidos, Status OK\n",
      "2022-08-08 16:08:37 CATEGORIA proposicoes, Status OK\n",
      "2022-08-08 16:08:37 CATEGORIA referencias/deputados, Status OK\n",
      "2022-08-08 16:08:37 CATEGORIA votacoes, Status OK\n",
      "2022-08-08 16:08:37 CATEGORIA orgaos, Status OK\n"
     ]
    }
   ],
   "source": [
    "# Connection test in all categories\n",
    "try:\n",
    "    for i in category:\n",
    "        # URL To connect on dadosabertos API\n",
    "        url = f'https://dadosabertos.camara.leg.br/api/v2/{i}'\n",
    "        resposta = requests.request(\"GET\", url) \n",
    "        resposta = str(resposta)\n",
    "\n",
    "        if resposta == '<Response [200]>':\n",
    "            print(date.strftime(\"%Y-%m-%d %H:%M:%S\"), f'CATEGORIA {i}, Status OK.')\n",
    "        else:\n",
    "            print(date.strftime(\"%Y-%m-%d %H:%M:%S\") + \" ERROR :\" + 'Status with error or status code is not expected: ', str(e))\n",
    "\n",
    "except Exception as e:\n",
    "  print(date.strftime(\"%Y-%m-%d %H:%M:%S\") + \" ERROR :\" + 'Failed on connection test in all categories: ', str(e))"
   ]
  },
  {
   "cell_type": "code",
   "execution_count": null,
   "metadata": {},
   "outputs": [],
   "source": []
  },
  {
   "cell_type": "code",
   "execution_count": null,
   "metadata": {},
   "outputs": [],
   "source": []
  },
  {
   "cell_type": "code",
   "execution_count": null,
   "metadata": {},
   "outputs": [],
   "source": []
  },
  {
   "cell_type": "code",
   "execution_count": null,
   "metadata": {},
   "outputs": [],
   "source": []
  },
  {
   "cell_type": "code",
   "execution_count": null,
   "metadata": {},
   "outputs": [],
   "source": []
  },
  {
   "cell_type": "code",
   "execution_count": 3,
   "metadata": {},
   "outputs": [],
   "source": [
    "df = pd.DataFrame(dados_parametros)\n",
    "df.head()\n",
    "\n",
    "df.to_csv('../files/dados_governo.csv', index = False, encoding='utf-8')"
   ]
  }
 ],
 "metadata": {
  "kernelspec": {
   "display_name": "Python 3.9.7 64-bit (windows store)",
   "language": "python",
   "name": "python3"
  },
  "language_info": {
   "codemirror_mode": {
    "name": "ipython",
    "version": 3
   },
   "file_extension": ".py",
   "mimetype": "text/x-python",
   "name": "python",
   "nbconvert_exporter": "python",
   "pygments_lexer": "ipython3",
   "version": "3.9.13"
  },
  "orig_nbformat": 4,
  "vscode": {
   "interpreter": {
    "hash": "9b6c89e48e3327fa6dfffb74f5b61287345820ae8a240bf9d4f2eae336161bb5"
   }
  }
 },
 "nbformat": 4,
 "nbformat_minor": 2
}
