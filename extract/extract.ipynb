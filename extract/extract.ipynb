{
 "cells": [
  {
   "cell_type": "code",
   "execution_count": 1,
   "metadata": {},
   "outputs": [],
   "source": [
    "import requests\n",
    "import json\n",
    "import pandas as pd"
   ]
  },
  {
   "cell_type": "code",
   "execution_count": 8,
   "metadata": {},
   "outputs": [],
   "source": [
    "# Requisição dos dados dos Deputados utilizando parametros\n",
    "url = 'https://dadosabertos.camara.leg.br/api/v2/deputados'\n",
    "resposta = requests.request(\"GET\", url)\n",
    "objetos = json.loads(resposta.text)\n",
    "dados_parametros = objetos['dados']"
   ]
  },
  {
   "cell_type": "code",
   "execution_count": 12,
   "metadata": {},
   "outputs": [],
   "source": [
    "df = pd.DataFrame(dados_parametros)\n",
    "df.head()\n",
    "\n",
    "df.to_csv('../files/dados_governo.csv', index = False, encoding='utf-8')"
   ]
  }
 ],
 "metadata": {
  "kernelspec": {
   "display_name": "Python 3.9.13 64-bit (windows store)",
   "language": "python",
   "name": "python3"
  },
  "language_info": {
   "codemirror_mode": {
    "name": "ipython",
    "version": 3
   },
   "file_extension": ".py",
   "mimetype": "text/x-python",
   "name": "python",
   "nbconvert_exporter": "python",
   "pygments_lexer": "ipython3",
   "version": "3.9.13"
  },
  "orig_nbformat": 4,
  "vscode": {
   "interpreter": {
    "hash": "8906bd03fdff34cc877f0eacf3de072606a23c6746149e25437a59cd6856a78e"
   }
  }
 },
 "nbformat": 4,
 "nbformat_minor": 2
}
